{
 "cells": [
  {
   "cell_type": "markdown",
   "metadata": {},
   "source": [
    "## Generating Scale-Free Networks\n",
    "\n",
    "### Write a computer code to generate networks of size N with a power-law degree distribution with degree exponent γ. Refer to SECTION 4.9 for the procedure. \n",
    "\n",
    "#### Generate three networks with γ = 2.2 and with N = 103, N = 104 and N = 105 nodes, respectively. What is the percentage of multi-link and selfloops in each network? Generate more networks to plot this percentage in function of N. Do the same for networks with γ = 3."
   ]
  },
  {
   "cell_type": "code",
   "execution_count": 337,
   "metadata": {},
   "outputs": [],
   "source": [
    "import networkx as nx\n",
    "#import matplotlib.pyplot as plt\n",
    "import numpy as np"
   ]
  },
  {
   "cell_type": "code",
   "execution_count": 338,
   "metadata": {},
   "outputs": [],
   "source": [
    "def generate_degree_sequence(gamma, N):\n",
    "    degree_sequence = np.random.zipf(gamma, N)\n",
    "    # sum of degrees must be even\n",
    "    if sum(degree_sequence) % 2 != 0:\n",
    "       degree_sequence[np.random.randint(0, N)] += 1\n",
    "    return degree_sequence\n",
    "\n",
    "def generate_network(gamma, N):\n",
    "    degree_sequence = generate_degree_sequence(gamma, N)\n",
    "    G = nx.configuration_model(degree_sequence)\n",
    "    return G\n",
    "\n",
    "def find_num_multilinks(G):\n",
    "    num_multilinks = 0\n",
    "    edge_freq = {}\n",
    "    for u, v in G.edges():\n",
    "        if (u, v) in edge_freq:\n",
    "            edge_freq[(u, v)] += 1\n",
    "        else:\n",
    "            edge_freq[(u, v)] = 1\n",
    "    for freq in edge_freq.values():\n",
    "        if freq > 1:\n",
    "            num_multilinks += freq - 1\n",
    "    return num_multilinks\n",
    "\n",
    "def selfloops_and_multilinks_percentage(gamma, N):\n",
    "    G = generate_network(gamma, N)\n",
    "    num_multilinks = find_num_multilinks(G)\n",
    "    num_selfloops = nx.number_of_selfloops(G)\n",
    "    total_edges = G.number_of_edges()\n",
    "    percentage_multilinks = (num_multilinks / total_edges) * 100\n",
    "    percentage_selfloops = (num_selfloops / total_edges) * 100\n",
    "    return percentage_selfloops, percentage_multilinks\n",
    "\n",
    "def format_percentages(gamma, N):\n",
    "    percentage_selfloops, percentage_multilinks = selfloops_and_multilinks_percentage(gamma, N)\n",
    "    return f\"The percentage of multi-links is {percentage_multilinks:.3f}%. The percentage of selfloops is {percentage_selfloops:.3f}%.\""
   ]
  },
  {
   "cell_type": "code",
   "execution_count": 339,
   "metadata": {},
   "outputs": [
    {
     "name": "stdout",
     "output_type": "stream",
     "text": [
      "The percentage of multi-links is 3.846%. The percentage of selfloops is 3.846%.\n",
      "The percentage of multi-links is 4.167%. The percentage of selfloops is 3.125%.\n",
      "The percentage of multi-links is 33.000%. The percentage of selfloops is 14.000%.\n"
     ]
    }
   ],
   "source": [
    "gamma = 2.2\n",
    "for N in range(103, 106):\n",
    "    print(format_percentages(gamma, N))"
   ]
  },
  {
   "cell_type": "code",
   "execution_count": null,
   "metadata": {},
   "outputs": [],
   "source": []
  }
 ],
 "metadata": {
  "kernelspec": {
   "display_name": "Python 3",
   "language": "python",
   "name": "python3"
  },
  "language_info": {
   "codemirror_mode": {
    "name": "ipython",
    "version": 3
   },
   "file_extension": ".py",
   "mimetype": "text/x-python",
   "name": "python",
   "nbconvert_exporter": "python",
   "pygments_lexer": "ipython3",
   "version": "3.10.14"
  }
 },
 "nbformat": 4,
 "nbformat_minor": 2
}
