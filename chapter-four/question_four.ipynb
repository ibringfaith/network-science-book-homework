{
 "cells": [
  {
   "cell_type": "markdown",
   "metadata": {},
   "source": [
    "## Mastering Distributions\n",
    "#### Use a software which includes a statistics package, like Matlab, Mathematica or Numpy in Python, to generate three synthetic datasets, each containing 10,000 integers that follow a power-law distribution with γ = 2.2, γ = 2.5 and γ = 3. Use k_min = 1. Apply the techniques described in ADVANCED TOPICS 4.C to fit the three distributions."
   ]
  },
  {
   "cell_type": "code",
   "execution_count": 82,
   "metadata": {},
   "outputs": [],
   "source": [
    "import math\n",
    "import numpy as np"
   ]
  },
  {
   "cell_type": "code",
   "execution_count": 87,
   "metadata": {},
   "outputs": [],
   "source": [
    "def generate_degree_sequence(gamma, N):\n",
    "    degree_sequence = np.random.zipf(gamma, N)\n",
    "    # sum of degrees must be even\n",
    "    if sum(degree_sequence) % 2 != 0:\n",
    "       degree_sequence[np.random.randint(0, N)] += 1\n",
    "    return degree_sequence\n",
    "\n",
    "def estimate_gamma(gamma):\n",
    "    k_min = 1\n",
    "    N = 10000\n",
    "    rand_k = np.random.randint(k_min, N)\n",
    "    sum_val = 0\n",
    "    degree_sequence = sorted(generate_degree_sequence(gamma, N))\n",
    "    for i in range(1, N+1):\n",
    "        sum_val += math.log((degree_sequence[i-1])/(rand_k-0.5))\n",
    "    return 1 + N * math.pow(sum_val, -1)\n"
   ]
  },
  {
   "cell_type": "code",
   "execution_count": 88,
   "metadata": {},
   "outputs": [
    {
     "name": "stdout",
     "output_type": "stream",
     "text": [
      "0.8698218888409845\n"
     ]
    }
   ],
   "source": [
    "print(estimate_gamma(2.2))\n",
    "print(estimate_gamma(2.5))\n",
    "print(estimate_gamma(3))"
   ]
  },
  {
   "cell_type": "code",
   "execution_count": null,
   "metadata": {},
   "outputs": [],
   "source": []
  }
 ],
 "metadata": {
  "kernelspec": {
   "display_name": "Python 3",
   "language": "python",
   "name": "python3"
  },
  "language_info": {
   "codemirror_mode": {
    "name": "ipython",
    "version": 3
   },
   "file_extension": ".py",
   "mimetype": "text/x-python",
   "name": "python",
   "nbconvert_exporter": "python",
   "pygments_lexer": "ipython3",
   "version": "3.10.14"
  }
 },
 "nbformat": 4,
 "nbformat_minor": 2
}
