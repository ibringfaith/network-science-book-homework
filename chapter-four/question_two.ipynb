{
 "cells": [
  {
   "cell_type": "markdown",
   "metadata": {},
   "source": [
    "## Friendship Paradox\n",
    "### The degree distribution p_k expresses the probability that a randomly selected node has k neighbors. However, if we randomly select a link, the probability that a node at one of its ends has degree k is q_k = Akp_k, where A is a normalization factor."
   ]
  },
  {
   "cell_type": "markdown",
   "metadata": {},
   "source": [
    "#### Find the normalization factor A, assuming that the network has a power law degree distribution with 2 < γ < 3, with minimum degree k_min and maximum degree k_max."
   ]
  },
  {
   "cell_type": "markdown",
   "metadata": {},
   "source": [
    "#### In the configuration model q_k is also the probability that a randomly chosen node has a neighbor with degree k. What is the average degree of the neighbors of a randomly chosen node?"
   ]
  },
  {
   "cell_type": "markdown",
   "metadata": {},
   "source": [
    "#### Calculate the average degree of the neighbors of a randomly chosen node in a network with N = 104, γ= 2.3, k_min= 1 and k_max= 1000. Compare the result with the average degree of the network, 〈k〉."
   ]
  },
  {
   "cell_type": "markdown",
   "metadata": {},
   "source": [
    "#### How can you explain the \"paradox\", that is a node's friends have more friends than the node itself?"
   ]
  }
 ],
 "metadata": {
  "language_info": {
   "name": "python"
  }
 },
 "nbformat": 4,
 "nbformat_minor": 2
}
