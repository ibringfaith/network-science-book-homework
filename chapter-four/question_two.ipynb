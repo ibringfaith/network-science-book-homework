{
 "cells": [
  {
   "cell_type": "markdown",
   "metadata": {},
   "source": [
    "## Friendship Paradox\n",
    "### The degree distribution p_k expresses the probability that a randomly selected node has k neighbors. However, if we randomly select a link, the probability that a node at one of its ends has degree k is q_k = Akp_k, where A is a normalization factor."
   ]
  },
  {
   "cell_type": "code",
   "execution_count": 1,
   "metadata": {},
   "outputs": [],
   "source": [
    "import math\n",
    "\n",
    "from pylatex import Document, Section, Math, Alignat"
   ]
  },
  {
   "cell_type": "code",
   "execution_count": 2,
   "metadata": {},
   "outputs": [],
   "source": [
    "if __name__ == '__main__':\n",
    "\n",
    "    geometry_options = {\"tmargin\": \"1cm\", \"lmargin\": \"10cm\"}\n",
    "    doc = Document(geometry_options=geometry_options)\n",
    "\n",
    "    with doc.create(Section('Find the normalization factor A, assuming that the network has a power law degree distribution with 2 < \\gamma < 3, with minimum degree k_min and maximum degree k_max.')):\n",
    "        doc.append('From the textbook, we know that ')\n",
    "        with doc.create(Alignat(numbering=False, escape=False)) as agn:\n",
    "                agn.append(r'C&=\\frac{1-\\gamma}{k_{max}^{1-\\gamma}-k_{min}^{1-\\gamma}}\\\\')\n",
    "        doc.append('Also applying the normalization condition to q_k, and substituting p_k into the equation, we obtain')\n",
    "        with doc.create(Alignat(numbering=False, escape=False)) as agn:\n",
    "                agn.append(r'\\int_{k_{min}}^{k_{max}}AkCk^{-\\gamma}dk&=1\\\\')\n",
    "                agn.append(r'AC\\int_{k_{min}}^{k_{max}}k^{1-\\gamma}dk&=1\\\\')\n",
    "                agn.append(r'AC(\\frac{k_{max}^{2-\\gamma}-k_{min}^{2-\\gamma}}{2-\\gamma})&=1\\\\')\n",
    "                agn.append(r'AC\\int_{k_{min}}^{k_{max}}k^{1-\\gamma}dk&=1\\\\')\n",
    "        doc.append('Solve for A, making sure to substitute the C value and simplify')\n",
    "        with doc.create(Alignat(numbering=False, escape=False)) as agn:\n",
    "                agn.append(r'A&=\\frac{(2-\\gamma)(k_{max}^{1-\\gamma}-k_{min}^{1-\\gamma})}{(1-\\gamma)(k_{max}^{2-\\gamma}-k_{min}^{2-\\gamma})}\\\\')\n",
    "        \n",
    "    with doc.create(Section('In the configuration model q_k is also the probability that a randomly chosen node has a neighbor with degree k. What is the average degree of the neighbors of a randomly chosen node?')):\n",
    "        doc.append('We want to find the average, or expected, value of k in respect to q_k. We denote this k as <k_q> and substitute the values for q_k and then p_k in the continuous expectation formula')\n",
    "        with doc.create(Alignat(numbering=False, escape=False)) as agn:\n",
    "                agn.append(r'<k_q>&=\\int_{k_{min}}^{k_{max}}kAkCk^{-\\gamma}dk\\\\')\n",
    "                agn.append(r'<k_q>&=AC\\int_{k_{min}}^{k_{max}}k^{2-\\gamma}dk\\\\')\n",
    "        doc.append('Substitute in the values for A and for C and solve the integral')\n",
    "        with doc.create(Alignat(numbering=False, escape=False)) as agn:\n",
    "                agn.append(r'<k_q>&=\\frac{(2-\\gamma)(k_{max}^{3-\\gamma}-k_{min}^{3-\\gamma})}{(3-\\gamma)(k_{max}^{2-\\gamma}-k_{min}^{2-\\gamma})}\\\\')\n",
    "\n",
    "\n",
    "    k_min = 1\n",
    "    k_max = 1000\n",
    "    γ = 2.3\n",
    "    avg_k_q = ((2-γ)*(math.pow(k_max, 3-γ)-math.pow(k_min, 3-γ)))/((3-γ)*(math.pow(k_max, 2-γ)-math.pow(k_min, 2-γ)))\n",
    "    avg_k = ((1-γ)/((math.pow(k_max, 1-γ)-math.pow(k_min, 1-γ))))*((math.pow(k_max, 2-γ)-math.pow(k_min, 2-γ))/(2-γ))\n",
    "    with doc.create(Section('Calculate the average degree of the neighbors of a randomly chosen node in a network with N = 10^4, \\gamma= 2.3, k_min= 1 and k_max= 1000. Compare the result with the average degree of the network,〈k〉.')):\n",
    "        doc.append('Substitute the given values into the equation for <k_q>')\n",
    "        doc.append(Math(data=[avg_k_q]))\n",
    "        doc.append('Use the textbook equation and substitute the value for C to find the equation for <k>')\n",
    "        with doc.create(Alignat(numbering=False, escape=False)) as agn:\n",
    "                agn.append(r'<k>&=\\frac{1-\\gamma}{k_{max}^{1-\\gamma}-k_{min}^{1-\\gamma}}\\cdot\\frac{(k_{max}^{2-\\gamma}-k_{min}^{2-\\gamma})}{(2-\\gamma)}\\\\')\n",
    "        doc.append('Substitute the given values into the equation for <k>')\n",
    "        doc.append(Math(data=[avg_k]))\n",
    "\n",
    "\n",
    "    doc.generate_pdf('q2', clean_tex=False)"
   ]
  },
  {
   "cell_type": "markdown",
   "metadata": {},
   "source": [
    "#### Compare the result with the average degree of the network,〈k〉.\n",
    "The average degree of the neighbors of a randomly chosen node in a network is greater than the average degree of the network since nodes with higher degrees have a higher probability of being connected to other nodes, which increases the average degree of the neighbors of a node in the network (the power law distribution is heavy tailed)."
   ]
  },
  {
   "cell_type": "markdown",
   "metadata": {},
   "source": [
    "#### How can you explain the \"paradox\", that is a node's friends have more friends than the node itself?\n",
    "\n",
    "The friendship paradox is the observation that the degrees of the neighbors of a node in any network will, on average, be greater than the degree of the node itself. It can be explained as a form of sampling bias in which people with more friends are more likely to be in one's own friend group.\n",
    "\n",
    "[Source](https://en.wikipedia.org/wiki/Friendship_paradox)"
   ]
  }
 ],
 "metadata": {
  "kernelspec": {
   "display_name": "Python 3",
   "language": "python",
   "name": "python3"
  },
  "language_info": {
   "codemirror_mode": {
    "name": "ipython",
    "version": 3
   },
   "file_extension": ".py",
   "mimetype": "text/x-python",
   "name": "python",
   "nbconvert_exporter": "python",
   "pygments_lexer": "ipython3",
   "version": "3.10.14"
  }
 },
 "nbformat": 4,
 "nbformat_minor": 2
}
