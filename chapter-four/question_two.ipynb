{
 "cells": [
  {
   "cell_type": "markdown",
   "metadata": {},
   "source": [
    "## Friendship Paradox\n",
    "### The degree distribution p_k expresses the probability that a randomly selected node has k neighbors. However, if we randomly select a link, the probability that a node at one of its ends has degree k is q_k = Akp_k, where A is a normalization factor."
   ]
  },
  {
   "cell_type": "markdown",
   "metadata": {},
   "source": [
    "#### Find the normalization factor A, assuming that the network has a power law degree distribution with 2 < γ < 3, with minimum degree k_min and maximum degree k_max."
   ]
  },
  {
   "cell_type": "code",
   "execution_count": null,
   "metadata": {},
   "outputs": [],
   "source": [
    "# Discrete case since the node degrees are positive integers k = 0, 1, 2, ...\n",
    "#q_k = Akp_k\n",
    "#q_k = A * \\sum{k=1, inf}kp_k\n",
    "#p_k = (k^-γ) / (\\sum{k=1, inf}k^-γ)\n",
    "#q_k = A * (k^-γ) * \\sum{k=1, inf}k^{1+γ}"
   ]
  },
  {
   "cell_type": "markdown",
   "metadata": {},
   "source": [
    "#### In the configuration model q_k is also the probability that a randomly chosen node has a neighbor with degree k. What is the average degree of the neighbors of a randomly chosen node?"
   ]
  },
  {
   "cell_type": "code",
   "execution_count": null,
   "metadata": {},
   "outputs": [],
   "source": [
    "# The first moment is the average degree\n",
    "#q_k = A * k * p_k"
   ]
  },
  {
   "cell_type": "markdown",
   "metadata": {},
   "source": [
    "#### Calculate the average degree of the neighbors of a randomly chosen node in a network with N = 104, γ= 2.3, k_min= 1 and k_max= 1000. Compare the result with the average degree of the network, 〈k〉."
   ]
  },
  {
   "cell_type": "code",
   "execution_count": null,
   "metadata": {},
   "outputs": [],
   "source": []
  },
  {
   "cell_type": "markdown",
   "metadata": {},
   "source": [
    "#### How can you explain the \"paradox\", that is a node's friends have more friends than the node itself?\n",
    "\n",
    "##### The friendship paradox is the observation that the degrees of the neighbors of a node in any network will, on average, be greater than the degree of the node itself. It can be explained as a form of sampling bias in which people with more friends are more likely to be in one's own friend group.\n",
    "\n",
    "[Source](https://en.wikipedia.org/wiki/Friendship_paradox)"
   ]
  }
 ],
 "metadata": {
  "kernelspec": {
   "display_name": "Python 3",
   "language": "python",
   "name": "python3"
  },
  "language_info": {
   "codemirror_mode": {
    "name": "ipython",
    "version": 3
   },
   "file_extension": ".py",
   "mimetype": "text/x-python",
   "name": "python",
   "nbconvert_exporter": "python",
   "pygments_lexer": "ipython3",
   "version": "3.10.14"
  }
 },
 "nbformat": 4,
 "nbformat_minor": 2
}
