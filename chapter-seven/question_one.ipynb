{
 "cells": [
  {
   "cell_type": "markdown",
   "metadata": {},
   "source": [
    "## Detailed Balance for Degree Correlations\n",
    "\n",
    "#### Express the joint probability e_{kk'}, the conditional probability P(k'|k) and the probability q_k, discussed in this chapter, in terms of number of nodes N, average degree 〈k〉, number of nodes with degree k, N_k, and the number of links connecting nodes of degree k and k', E_{kk'} (note that E_{kk'} is twice the number of links when k = k'). Based on these expressions, show that for any network we have e_{kk′}=q_kP(k′|k)"
   ]
  },
  {
   "cell_type": "code",
   "execution_count": null,
   "metadata": {
    "vscode": {
     "languageId": "plaintext"
    }
   },
   "outputs": [],
   "source": [
    "from pylatex import Document, Section, Alignat"
   ]
  }
 ],
 "metadata": {
  "language_info": {
   "name": "python"
  }
 },
 "nbformat": 4,
 "nbformat_minor": 2
}
