{
 "cells": [
  {
   "cell_type": "markdown",
   "metadata": {},
   "source": [
    "## Detailed Balance for Degree Correlations"
   ]
  },
  {
   "cell_type": "code",
   "execution_count": 4,
   "metadata": {},
   "outputs": [],
   "source": [
    "from pylatex import Document, Section, Alignat"
   ]
  },
  {
   "cell_type": "code",
   "execution_count": 5,
   "metadata": {},
   "outputs": [],
   "source": [
    "if __name__ == '__main__':\n",
    "\n",
    "    geometry_options = {\"tmargin\": \"1cm\", \"lmargin\": \"10cm\"}\n",
    "    doc = Document(geometry_options=geometry_options)\n",
    "\n",
    "    with doc.create(Section(\"Express the joint probability e_{kk'} in terms of N,〈k〉, number of nodes with degree k, N_k, and E_{kk'} (note that E_{kk'} is twice the number of links when k = k').\")):\n",
    "        doc.append('The textbook shows that')\n",
    "        with doc.create(Alignat(numbering=False, escape=False)) as agn:\n",
    "                agn.append(r\"E_{kk'}&=e_{kk'}<k>N\\\\\")\n",
    "        doc.append('We rewrite this to get')\n",
    "        with doc.create(Alignat(numbering=False, escape=False)) as agn:\n",
    "                agn.append(r\"e_{kk'}&=\\frac{E_{kk'}}{<k>N}\\\\\")\n",
    "\n",
    "    with doc.create(Section(\"Express the conditional probability P(k'|k) in terms of N, 〈k〉, N_k, and the number of links connecting nodes of degree k and k', E_{kk'} (note that E_{kk'} is twice the number of links when k = k').\")):\n",
    "        with doc.create(Alignat(numbering=False, escape=False)) as agn:\n",
    "                agn.append(r\"P(k|k')&=\\frac{\\frac{E_{kk'}}{\\sum_kkN_k}}{\\frac{<k>N_k}{\\sum_kkN_k}}\\\\\")\n",
    "        doc.append('where \\sum_kkN_k is the total number of links in the model.')\n",
    "        doc.append('This simplifies to')\n",
    "        with doc.create(Alignat(numbering=False, escape=False)) as agn:\n",
    "                agn.append(r\"P(k|k')&=\\frac{E_{kk'}}{<k>N_k}\\\\\")\n",
    "\n",
    "    with doc.create(Section(\"Express the probability q_k, discussed in this chapter, in terms of number of nodes N, average degree 〈k〉, N_k, and E_{kk'}.\")):\n",
    "        with doc.create(Alignat(numbering=False, escape=False)) as agn:\n",
    "                agn.append(r'q_k=\\frac{kN_k}{\\sum_kkN_k}\\\\')\n",
    "\n",
    "    with doc.create(Section(\"Based on these expressions, show that for any network we have e_{kk'}=q_kP(k'|k)\")):\n",
    "        with doc.create(Alignat(numbering=False, escape=False)) as agn:\n",
    "                agn.append(r\"e_{kk'}&=q_kP(k'|k)\\\\\")\n",
    "                agn.append(r\"q_kP(k'|k)&=\\frac{kN_k}{\\sum_kkN_k}\\frac{E_{kk'}}{<k>N_k}\\\\\")\n",
    "\n",
    "    doc.generate_pdf('q1', clean_tex=False)"
   ]
  },
  {
   "cell_type": "code",
   "execution_count": null,
   "metadata": {},
   "outputs": [],
   "source": []
  }
 ],
 "metadata": {
  "kernelspec": {
   "display_name": "Python 3",
   "language": "python",
   "name": "python3"
  },
  "language_info": {
   "codemirror_mode": {
    "name": "ipython",
    "version": 3
   },
   "file_extension": ".py",
   "mimetype": "text/x-python",
   "name": "python",
   "nbconvert_exporter": "python",
   "pygments_lexer": "ipython3",
   "version": "3.10.14"
  }
 },
 "nbformat": 4,
 "nbformat_minor": 2
}
