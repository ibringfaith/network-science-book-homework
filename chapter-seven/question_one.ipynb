{
 "cells": [
  {
   "cell_type": "markdown",
   "metadata": {},
   "source": [
    "## Detailed Balance for Degree Correlations\n",
    "\n",
    "#### Express the joint probability e_{kk'}, the conditional probability P(k'|k) and the probability q_k, discussed in this chapter, in terms of number of nodes N, average degree 〈k〉, number of nodes with degree k, N_k, and the number of links connecting nodes of degree k and k', E_{kk'} (note that E_{kk'} is twice the number of links when k = k'). Based on these expressions, show that for any network we have e_{kk′}=q_kP(k′|k)"
   ]
  },
  {
   "cell_type": "code",
   "execution_count": null,
   "metadata": {
    "vscode": {
     "languageId": "plaintext"
    }
   },
   "outputs": [],
   "source": [
    "from pylatex import Document, Section, Alignat"
   ]
  },
  {
   "cell_type": "code",
   "execution_count": null,
   "metadata": {
    "vscode": {
     "languageId": "plaintext"
    }
   },
   "outputs": [],
   "source": [
    "if __name__ == '__main__':\n",
    "\n",
    "    geometry_options = {\"tmargin\": \"1cm\", \"lmargin\": \"10cm\"}\n",
    "    doc = Document(geometry_options=geometry_options)\n",
    "\n",
    "    with doc.create(Section('Express the joint probability e_{kk'} in terms of number of nodes N, average degree 〈k〉, number of nodes with degree k, N_k, and the number of links connecting nodes of degree k and k', E_{kk'} (note that E_{kk'} is twice the number of links when k = k').')):\n",
    "        doc.append('The textbook shows that')\n",
    "        with doc.create(Alignat(numbering=False, escape=False)) as agn:\n",
    "                agn.append(r'E_{kk'}&=e_{kk'}<k>N\\\\')\n",
    "        doc.append('We rewrite this to get')\n",
    "        with doc.create(Alignat(numbering=False, escape=False)) as agn:\n",
    "                agn.append(r'e_{kk'}&=\\frac{E_{kk'}}{<k>N}\\\\')\n",
    "\n",
    "    with doc.create(Section('Express the conditional probability P(k'|k) in terms of number of nodes N, average degree 〈k〉, number of nodes with degree k, N_k, and the number of links connecting nodes of degree k and k', E_{kk'} (note that E_{kk'} is twice the number of links when k = k').')):\n",
    "        with doc.create(Alignat(numbering=False, escape=False)) as agn:\n",
    "                agn.append(r'P(k|k')&=\\frac{\\frac{E_{kk'}}{2L}}{\\frac{<k>N_k}{2L}}\\\\')\n",
    "        doc.append('where 2L is the total number of links in the model.')\n",
    "        doc.append('This simplifies to')\n",
    "        with doc.create(Alignat(numbering=False, escape=False)) as agn:\n",
    "                agn.append(r'P(k|k')&=\\frac{\\E_{kk'}}{<k>N_k}\\\\')\n",
    "\n",
    "    \n",
    "    with doc.create(Section('Express the probability q_k, discussed in this chapter, in terms of number of nodes N, average degree 〈k〉, number of nodes with degree k, N_k, and the number of links connecting nodes of degree k and k', E_{kk'} (note that E_{kk'} is twice the number of links when k = k').')):\n",
    "        doc.append('k_in is proportional to t^theta so t is proportional to k_in^theta')\n",
    "        with doc.create(Alignat(numbering=False, escape=False)) as agn:\n",
    "                agn.append(r'P(k)dk\\sim\\frac{dt}{dk}dk\\\\')\n",
    "                agn.append(r'P(k)dk\\sim k^{\\frac{1}{\\theta}-1}dk\\\\')\n",
    "                agn.append(r'-\\gamma&=\\frac{1}{\\theta}-1\\\\')\n",
    "                agn.append(r'\\gamma&=-\\frac{1}{\\theta}+1\\\\')\n",
    "\n",
    "\n",
    "    with doc.create(Section('Based on these expressions, show that for any network we have e_{kk′}=q_kP(k′|k)')):\n",
    "        doc.append('k_in is proportional to t^theta so t is proportional to k_in^theta')\n",
    "        with doc.create(Alignat(numbering=False, escape=False)) as agn:\n",
    "                agn.append(r'P(k)dk\\sim\\frac{dt}{dk}dk\\\\')\n",
    "                agn.append(r'P(k)dk\\sim k^{\\frac{1}{\\theta}-1}dk\\\\')\n",
    "                agn.append(r'-\\gamma&=\\frac{1}{\\theta}-1\\\\')\n",
    "                agn.append(r'\\gamma&=-\\frac{1}{\\theta}+1\\\\')\n",
    "\n",
    "\n",
    "\n",
    "    doc.generate_pdf('q1', clean_tex=False)"
   ]
  }
 ],
 "metadata": {
  "language_info": {
   "name": "python"
  }
 },
 "nbformat": 4,
 "nbformat_minor": 2
}
