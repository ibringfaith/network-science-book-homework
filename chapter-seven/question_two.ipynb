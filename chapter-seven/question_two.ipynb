{
 "cells": [
  {
   "cell_type": "markdown",
   "metadata": {},
   "source": [
    "## Star Network\n",
    "\n",
    "#### Consider a star network, where a single node is connected to N – 1 degree one nodes. Assume that N≫1."
   ]
  },
  {
   "cell_type": "code",
   "execution_count": null,
   "metadata": {
    "vscode": {
     "languageId": "plaintext"
    }
   },
   "outputs": [],
   "source": [
    "from pylatex import Document, Section, Alignat"
   ]
  },
  {
   "cell_type": "code",
   "execution_count": null,
   "metadata": {
    "vscode": {
     "languageId": "plaintext"
    }
   },
   "outputs": [],
   "source": [
    "if __name__ == '__main__':\n",
    "\n",
    "    geometry_options = {\"tmargin\": \"1cm\", \"lmargin\": \"10cm\"}\n",
    "    doc = Document(geometry_options=geometry_options)\n",
    "\n",
    "    with doc.create(Section(\"What is the degree distribution p_k of this network?\")):\n",
    "        doc.append('For the single node connected to N-1 degree one nodes')\n",
    "        with doc.create(Alignat(numbering=False, escape=False)) as agn:\n",
    "                agn.append(r\"p_k=\\frac{1}{N}\\\\\")\n",
    "        doc.append('For the N-1 degree one nodes')\n",
    "        with doc.create(Alignat(numbering=False, escape=False)) as agn:\n",
    "                agn.append(r\"p_k=\\frac{N-1}{N}\\\\\")\n",
    "\n",
    "    with doc.create(Section(\"What is the probability q_k that moving along a randomly chosen link we find at its end a node with degree k?\")):\n",
    "        with doc.create(Alignat(numbering=False, escape=False)) as agn:\n",
    "                agn.append(r\"P(k|k')&=\\frac{\\frac{E_{kk'}}{\\sum_kkN_k}}{\\frac{<k>N_k}{\\sum_kkN_k}}\\\\\")\n",
    "        doc.append('where \\sum_kkN_k is the total number of links in the model.')\n",
    "        doc.append('This simplifies to')\n",
    "        with doc.create(Alignat(numbering=False, escape=False)) as agn:\n",
    "                agn.append(r\"P(k|k')&=\\frac{E_{kk'}}{<k>N_k}\\\\\")\n",
    "\n",
    "    with doc.create(Section(\"Calculate the degree correlation coefficient r for this network. Use the expressions of e_{kk'} and P(k'|k) calculated in HOMEWORK 7.1.\")):\n",
    "        with doc.create(Alignat(numbering=False, escape=False)) as agn:\n",
    "                agn.append(r'q_k=\\frac{kN_k}{\\sum_kkN_k}\\\\')\n",
    "\n",
    "    with doc.create(Section(\"Is this network assortative or disassortative? Explain why.\")):\n",
    "        doc.append('This network is disassortative since the hubs avoid each other, linking instead to small-degree nodes. The star network looks like a hub and spoke network, which is a characteristic of disassortative networks.')\n",
    "\n",
    "    doc.generate_pdf('q2', clean_tex=False)"
   ]
  }
 ],
 "metadata": {
  "language_info": {
   "name": "python"
  }
 },
 "nbformat": 4,
 "nbformat_minor": 2
}
