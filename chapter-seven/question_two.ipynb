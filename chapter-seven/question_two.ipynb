{
 "cells": [
  {
   "cell_type": "markdown",
   "metadata": {},
   "source": [
    "## Star Network\n",
    "\n",
    "#### Consider a star network, where a single node is connected to N – 1 degree one nodes. Assume that N≫1.\n",
    "- What is the degree distribution p_k of this network?\n",
    "- What is the probability q_k that moving along a randomly chosen link we find at its end a node with degree k?\n",
    "- Calculate the degree correlation coefficient r for this network. Use the expressions of e_{kk'} and P(k'|k) calculated in HOMEWORK 7.1.\n",
    "- Is this network assortative or disassortative? Explain why."
   ]
  },
  {
   "cell_type": "code",
   "execution_count": null,
   "metadata": {
    "vscode": {
     "languageId": "plaintext"
    }
   },
   "outputs": [],
   "source": [
    "from pylatex import Document, Section, Alignat"
   ]
  }
 ],
 "metadata": {
  "language_info": {
   "name": "python"
  }
 },
 "nbformat": 4,
 "nbformat_minor": 2
}
