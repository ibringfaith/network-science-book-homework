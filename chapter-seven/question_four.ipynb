{
 "cells": [
  {
   "cell_type": "markdown",
   "metadata": {},
   "source": [
    "## Degree Correlations in Erdős-Rényi Networks\n",
    "\n",
    "#### Consider the Erdős-Rényi G(N,L) model of random networks, introduced in CHAPTER 2 (BOX 3.1 and SECTION 3.2), where N labeled nodes are connected with L randomly placed links. In this model, the probability that there is a link connecting nodes i and j depends on the existence of a link between nodes l and s."
   ]
  },
  {
   "cell_type": "code",
   "execution_count": null,
   "metadata": {
    "vscode": {
     "languageId": "plaintext"
    }
   },
   "outputs": [],
   "source": [
    "from pylatex import Document, Section, Alignat"
   ]
  },
  {
   "cell_type": "code",
   "execution_count": null,
   "metadata": {
    "vscode": {
     "languageId": "plaintext"
    }
   },
   "outputs": [],
   "source": [
    "if __name__ == '__main__':\n",
    "\n",
    "    geometry_options = {\"tmargin\": \"1cm\", \"lmargin\": \"10cm\"}\n",
    "    doc = Document(geometry_options=geometry_options)\n",
    "\n",
    "    with doc.create(Section(\"Write the probability that there is a link between i and j, e_{ij} and the probability that there is a link between i and j conditional on the existence of a link between l and s.\")):\n",
    "        with doc.create(Alignat(numbering=False, escape=False)) as agn:\n",
    "                agn.append(r\"e_{ij} &= \\frac{L}{{N \\choose 2}}\\\\\")\n",
    "                agn.append(r\"e_{ij} &= \\frac{L}{\\frac{N(N-1)}{2}}\\\\\")\n",
    "                agn.append(r\"e_{ij} &= \\frac{2L}{N(N-1)}\\\\\")\n",
    "        with doc.create(Alignat(numbering=False, escape=False)) as agn:\n",
    "                agn.append(r\"P(e_{ij}|e_{ls}) &= \\frac{2(L-1)}{N(N-1)-2}\\\\\")\n",
    "\n",
    "    with doc.create(Section(\"What is the ratio of such two probabilities for small networks? And for large networks?\")):\n",
    "        doc.append('If k=1')\n",
    "        with doc.create(Alignat(numbering=False, escape=False)) as agn:\n",
    "                agn.append(r\"q_1=\\frac{N-1}{N}\\\\\")\n",
    "        doc.append('If k=N-1')\n",
    "        with doc.create(Alignat(numbering=False, escape=False)) as agn:\n",
    "                agn.append(r\"q_{N-1}=\\frac{1}{N}\\\\\")\n",
    "        doc.append('If k!=1 or k!=N-1')\n",
    "        with doc.create(Alignat(numbering=False, escape=False)) as agn:\n",
    "                agn.append(r\"q_k=0\\\\\")\n",
    "\n",
    "    with doc.create(Section(\"What do you obtain for the quantities discussed in (a) and (b) if you use the Erdős-Rényi G(N,p) model?\")):\n",
    "        doc.append('The textbook shows that')\n",
    "        with doc.create(Alignat(numbering=False, escape=False)) as agn:\n",
    "                agn.append(r\"r&=\\sum_{kk'}\\frac{kk'(e_{kk'}-q_kq_{k'})}{\\sum_{k'}k'^2q_{k'}-[\\sum_{k'}k'q_{k'}]^2}\\\\\")\n",
    "        doc.append('Simplifying the equation we get')\n",
    "        with doc.create(Alignat(numbering=False, escape=False)) as agn:\n",
    "                agn.append(r\"r&=-\\frac{1}{N-1}\\\\\")\n",
    "\n",
    "    with doc.create(Section(\"Based on the results found for (a)-(c) discuss the implications of using the G(N,L) model instead of the G(N,p) model for generating random networks with small number of nodes.\")):\n",
    "        doc.append('This network is disassortative since the hubs avoid each other, linking instead to small-degree nodes. The star network looks like a hub and spoke network, which is a characteristic of disassortative networks. Furthermore, r<0, supporting its disassortative nature.')\n",
    "\n",
    "    doc.generate_pdf('q4', clean_tex=False)"
   ]
  }
 ],
 "metadata": {
  "language_info": {
   "name": "python"
  }
 },
 "nbformat": 4,
 "nbformat_minor": 2
}
