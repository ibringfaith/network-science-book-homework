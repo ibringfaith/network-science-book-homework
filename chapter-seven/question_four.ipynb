{
 "cells": [
  {
   "cell_type": "markdown",
   "metadata": {},
   "source": [
    "## Degree Correlations in Erdős-Rényi Networks\n",
    "\n",
    "#### Consider the Erdős-Rényi G(N,L) model of random networks, introduced in CHAPTER 2 (BOX 3.1 and SECTION 3.2), where N labeled nodes are connected with L randomly placed links. In this model, the probability that there is a link connecting nodes i and j depends on the existence of a link between nodes l and s.\n",
    "\n",
    "- Write the probability that there is a link between i and j, e_{ij} and the probability that there is a link between i and j conditional on the existence of a link between l and s.\n",
    "- What is the ratio of such two probabilities for small networks? And for large networks?\n",
    "- What do you obtain for the quantities discussed in (a) and (b) if you use the Erdős-Rényi G(N,p) model?\n",
    "\n",
    "#### Based on the results found for (a)-(c) discuss the implications of using the G(N,L) model instead of the G(N,p) model for generating random networks with small number of nodes."
   ]
  },
  {
   "cell_type": "markdown",
   "metadata": {},
   "source": []
  }
 ],
 "metadata": {
  "language_info": {
   "name": "python"
  }
 },
 "nbformat": 4,
 "nbformat_minor": 2
}
