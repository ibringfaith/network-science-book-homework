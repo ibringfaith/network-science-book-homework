{
 "cells": [
  {
   "cell_type": "markdown",
   "metadata": {},
   "source": [
    "## Degree Correlations in Erdős-Rényi Networks\n",
    "\n",
    "#### Consider the Erdős-Rényi G(N,L) model of random networks, introduced in CHAPTER 2 (BOX 3.1 and SECTION 3.2), where N labeled nodes are connected with L randomly placed links. In this model, the probability that there is a link connecting nodes i and j depends on the existence of a link between nodes l and s."
   ]
  },
  {
   "cell_type": "code",
   "execution_count": 1,
   "metadata": {},
   "outputs": [],
   "source": [
    "from pylatex import Document, Section, Alignat"
   ]
  },
  {
   "cell_type": "code",
   "execution_count": 2,
   "metadata": {},
   "outputs": [],
   "source": [
    "if __name__ == '__main__':\n",
    "\n",
    "    geometry_options = {\"tmargin\": \"1cm\", \"lmargin\": \"10cm\"}\n",
    "    doc = Document(geometry_options=geometry_options)\n",
    "\n",
    "    with doc.create(Section(\"Write the probability that there is a link between i and j, e_{ij} and the probability that there is a link between i and j conditional on the existence of a link between l and s.\")):\n",
    "        with doc.create(Alignat(numbering=False, escape=False)) as agn:\n",
    "                agn.append(r\"P(e_{ij}) &= \\frac{L}{{N \\choose 2}}\\\\\")\n",
    "                agn.append(r\"P(e_{ij}) &= \\frac{L}{\\frac{N(N-1)}{2}}\\\\\")\n",
    "                agn.append(r\"P(e_{ij}) &= \\frac{2L}{N(N-1)}\\\\\")\n",
    "        with doc.create(Alignat(numbering=False, escape=False)) as agn:\n",
    "                agn.append(r\"P(e_{ij}|e_{ls}) &= \\frac{2(L-1)}{N(N-1)-2}\\\\\")\n",
    "\n",
    "    with doc.create(Section(\"What is the ratio of such two probabilities for small networks? And for large networks?\")):\n",
    "        doc.append('Small Networks')\n",
    "        with doc.create(Alignat(numbering=False, escape=False)) as agn:\n",
    "                agn.append(r\"\\frac{P(e_{ij}|e_{ls})}{P(e_{ij})} &= \\frac{(L-1)N(N-1)}{L[N(N-1)-2]}\\\\\")\n",
    "        doc.append('Large Networks')\n",
    "        with doc.create(Alignat(numbering=False, escape=False)) as agn:\n",
    "                agn.append(r\"\\frac{P(e_{ij}|e_{ls})}{P(e_{ij})} &= 1\\\\\")\n",
    "        doc.append('since N goes to infinity.')\n",
    "\n",
    "    with doc.create(Section(\"What do you obtain for the quantities discussed in (a) and (b) if you use the Erdős-Rényi G(N,p) model?\")):\n",
    "        with doc.create(Alignat(numbering=False, escape=False)) as agn:\n",
    "                agn.append(r\"P(e_{ij} &= p)\\\\\")\n",
    "        with doc.create(Alignat(numbering=False, escape=False)) as agn:\n",
    "                agn.append(r\"P(e_{ij}|e_{ls}) &= p\\\\\")\n",
    "        with doc.create(Alignat(numbering=False, escape=False)) as agn:\n",
    "                agn.append(r\"\\frac{P(e_{ij}|e_{ls})}{P(e_{ij})} &= 1\\\\\")\n",
    "\n",
    "    with doc.create(Section(\"Based on the results found for (a)-(c) discuss the implications of using the G(N,L) model instead of the G(N,p) model for generating random networks with small number of nodes.\")):\n",
    "        doc.append('In small networks, the dependent nature between links is significant since the probability of a link is affected by other existing links. This makes the analysis for small networks more complex in the G(N,L) model compared to the G(N,p) model.')\n",
    "\n",
    "    doc.generate_pdf('q4', clean_tex=False)"
   ]
  }
 ],
 "metadata": {
  "kernelspec": {
   "display_name": "Python 3",
   "language": "python",
   "name": "python3"
  },
  "language_info": {
   "codemirror_mode": {
    "name": "ipython",
    "version": 3
   },
   "file_extension": ".py",
   "mimetype": "text/x-python",
   "name": "python",
   "nbconvert_exporter": "python",
   "pygments_lexer": "ipython3",
   "version": "3.10.14"
  }
 },
 "nbformat": 4,
 "nbformat_minor": 2
}
