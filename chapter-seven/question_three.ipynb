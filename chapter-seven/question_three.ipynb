{
 "cells": [
  {
   "cell_type": "markdown",
   "metadata": {},
   "source": [
    "## Structural Cutoffs\n",
    "\n",
    "#### Calculate the structural cutoff k_s for the undirected networks listed in Table 4.1. Based on the plots in Image 7.10, predict for each network whether k_s is larger or smaller than the maximum expected degree k_max. Confirm your prediction by calculating k_max."
   ]
  },
  {
   "cell_type": "markdown",
   "metadata": {},
   "source": []
  }
 ],
 "metadata": {
  "language_info": {
   "name": "python"
  }
 },
 "nbformat": 4,
 "nbformat_minor": 2
}
