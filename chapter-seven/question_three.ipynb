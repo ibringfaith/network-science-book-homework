{
 "cells": [
  {
   "cell_type": "markdown",
   "metadata": {},
   "source": [
    "## Structural Cutoffs\n",
    "\n",
    "#### Calculate the structural cutoff k_s for the undirected networks listed in Table 4.1. Based on the plots in Image 7.10, predict for each network whether k_s is larger or smaller than the maximum expected degree k_max. Confirm your prediction by calculating k_max."
   ]
  },
  {
   "cell_type": "code",
   "execution_count": null,
   "metadata": {
    "vscode": {
     "languageId": "plaintext"
    }
   },
   "outputs": [],
   "source": [
    "import pandas as pd"
   ]
  },
  {
   "cell_type": "code",
   "execution_count": null,
   "metadata": {
    "vscode": {
     "languageId": "plaintext"
    }
   },
   "outputs": [],
   "source": [
    "# convert to subscript \n",
    "def get_sub(x: str) -> str: \n",
    "    normal = \"ABCDEFGHIJKLMNOPQRSTUVWXYZabcdefghijklmnopqrstuvwxyz0123456789+-=()\"\n",
    "    sub_s = \"ₐ₈CDₑբGₕᵢⱼₖₗₘₙₒₚQᵣₛₜᵤᵥwₓᵧZₐ♭꜀ᑯₑբ₉ₕᵢⱼₖₗₘₙₒₚ૧ᵣₛₜᵤᵥwₓᵧ₂₀₁₂₃₄₅₆₇₈₉₊₋₌₍₎\"\n",
    "    res = x.maketrans(''.join(normal), ''.join(sub_s)) \n",
    "    return x.translate(res) \n",
    "  \n",
    "# convert to superscript \n",
    "def get_super(x: str) -> str: \n",
    "    normal = \"ABCDEFGHIJKLMNOPQRSTUVWXYZabcdefghijklmnopqrstuvwxyz0123456789+-=()\"\n",
    "    super_s = \"ᴬᴮᶜᴰᴱᶠᴳᴴᴵᴶᴷᴸᴹᴺᴼᴾQᴿˢᵀᵁⱽᵂˣʸᶻᵃᵇᶜᵈᵉᶠᵍʰᶦʲᵏˡᵐⁿᵒᵖ۹ʳˢᵗᵘᵛʷˣʸᶻ⁰¹²³⁴⁵⁶⁷⁸⁹⁺⁻⁼⁽⁾\"\n",
    "    res = x.maketrans(''.join(normal), ''.join(super_s)) \n",
    "    return x.translate(res) "
   ]
  },
  {
   "cell_type": "code",
   "execution_count": null,
   "metadata": {
    "vscode": {
     "languageId": "plaintext"
    }
   },
   "outputs": [],
   "source": [
    "table_data = {'Network': ['Internet', 'WWW', 'Power Grid', 'Mobile-Phone Calls', 'Email', 'Science Collaboration', 'Actor Network', 'Citation Network', 'E. Coli Metabolism', 'Protein Interactions'], \n",
    "     'N': [192244, 325729, 4941, 36595, 57194, 23133, 702388, 449673, 1039, 2018], \n",
    "     'L': [609066, 1497134, 6594, 91826, 103731, 93437, 29397908, 4689478, 5802, 2930],\n",
    "     '<k>': [6.340, 4.600, 2.670, 2.510, 1.810, 8.080, 83.710, 10.430, 5.580, 2.900],\n",
    "     '<k{}{}>'.format(get_sub('in'), get_super('2')): [None, 1546, None, 12, 9.470, None, None, 971.500, 535.700, None],\n",
    "     '<k{}{}>'.format(get_sub('out'), get_super('2')): ['-', 482.400, '-', 11.700, 1163.900, '-', '-', 198.800, 396.700, '-'],\n",
    "     '<k{}>'.format(get_super('2')): [240.100, '-', 10.300, '-', '-', 178.200, 47353.700, '-', '-', 32.300],\n",
    "     'γ{}'.format(get_sub('in')): ['-', 2, '-', 4.690, 3.430, '-', '-', 3.030, 2.430, '-'], \n",
    "     'γ{}'.format(get_sub('out')): ['-', 2.310, '-', 5.010, 2.030, '-', '-', 4, 2.900, '-'], \n",
    "     'γ': [3.420, '-', 'Exp.', '-', '-', 3.350, 2.120, '-', '-', 2.890] }\n",
    "table_df = pd.DataFrame(data=table_data)\n",
    "\n",
    "# select the undirected networks listed in Table 4.1\n",
    "table_df.loc[table_df['<k{}{}>'.format(get_sub('in'), get_super('2'))] >= 0, 'Undirected'] = False\n",
    "table_df.loc[table_df['Undirected'] != False, 'Undirected'] = True\n",
    "undirected_table_df = table_df.loc[table_df['Undirected'] == True].drop(columns=['<k{}{}>'.format(get_sub('in'), get_super('2')), \n",
    "                                                                                 '<k{}{}>'.format(get_sub('out'), get_super('2')), \n",
    "                                                                                 'γ{}'.format(get_sub('in')), \n",
    "                                                                                 'γ{}'.format(get_sub('out'))])"
   ]
  },
  {
   "cell_type": "code",
   "execution_count": null,
   "metadata": {
    "vscode": {
     "languageId": "plaintext"
    }
   },
   "outputs": [],
   "source": [
    "# add kmin values from table 4.3\n",
    "kmin_vals = [72, 5, 3.35, 54, 7]\n",
    "undirected_table_df['k_min'] = kmin_vals\n",
    "\n",
    "# add value from γ column in table 4.3 to replace Exp.\n",
    "undirected_table_df.loc[undirected_table_df['γ'] == 'Exp.', 'γ'] = 4.00\n",
    "\n",
    "num_rows = undirected_table_df.shape[0]\n",
    "\n",
    "max_degree_list = []\n",
    "\n",
    "for row in range(num_rows):\n",
    "    kmax = undirected_table_df['k_min'].iloc[row] * undirected_table_df['N'].iloc[row]**(1/(undirected_table_df['γ'].iloc[row]-1))\n",
    "    max_degree_list.append(kmax)\n",
    "\n",
    "undirected_table_df['k_max'] = max_degree_list\n",
    "undirected_table_df"
   ]
  }
 ],
 "metadata": {
  "language_info": {
   "name": "python"
  }
 },
 "nbformat": 4,
 "nbformat_minor": 2
}
