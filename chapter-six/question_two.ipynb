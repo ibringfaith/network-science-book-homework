{
 "cells": [
  {
   "cell_type": "markdown",
   "metadata": {},
   "source": [
    "## The t-Party Evolving Network Model\n",
    "\n",
    "#### In the t-party gender play no role, hence each newcomer is allowed to invite only one other participants to a dance. However, attractiveness plays a role: More attractive participants are more likely to be invited to a dance by a new participant. The party evolves following these rules:\n",
    "\n",
    "- Every participant corresponds to a node i and is assigned a time-independent attractiveness coefficient η_i.\n",
    "- At each time step a new node joins the t-party.\n",
    "- This new node then invites one already partying node to a dance, establishing a new link with it.\n",
    "- The new node chooses its dance partner with probability proportional to the potential partner's attractiveness. If there are t nodes already in the party, the probability that node i receives a dance invitation is Π_i=η_i/(∑_jη_j)=η_i/t⟨η⟩ where 〈η〉 is the average attractiveness.\n",
    "- Derive the time evolution of the node degrees, telling us how many dances a node had.\n",
    "- Derive the degree distribution of nodes with attractiveness η.\n",
    "- If half of the nodes have η = 2, and the other half η = 1, what is the degree distribution of the network after a sufficiently long time?"
   ]
  },
  {
   "cell_type": "markdown",
   "metadata": {},
   "source": []
  }
 ],
 "metadata": {
  "language_info": {
   "name": "python"
  }
 },
 "nbformat": 4,
 "nbformat_minor": 2
}
