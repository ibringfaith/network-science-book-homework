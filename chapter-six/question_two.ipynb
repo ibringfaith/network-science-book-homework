{
 "cells": [
  {
   "cell_type": "markdown",
   "metadata": {},
   "source": [
    "## The t-Party Evolving Network Model\n",
    "\n",
    "#### In the t-party, gender plays no role, hence each newcomer is allowed to invite only one other participant to a dance. However, attractiveness plays a role: More attractive participants are more likely to be invited to a dance by a new participant. The party evolves following these rules:\n",
    "\n",
    "- Every participant corresponds to a node i and is assigned a time-independent attractiveness coefficient η_i.\n",
    "- At each time step a new node joins the t-party.\n",
    "- This new node then invites one already partying node to a dance, establishing a new link with it.\n",
    "- The new node chooses its dance partner with probability proportional to the potential partner's attractiveness. If there are t nodes already in the party, the probability that node i receives a dance invitation is Π_i=η_i/(∑_jη_j)=η_i/t⟨η⟩ where 〈η〉 is the average attractiveness."
   ]
  },
  {
   "cell_type": "code",
   "execution_count": 3,
   "metadata": {},
   "outputs": [],
   "source": [
    "from pylatex import Document, Section, Alignat"
   ]
  },
  {
   "cell_type": "code",
   "execution_count": 4,
   "metadata": {},
   "outputs": [],
   "source": [
    "if __name__ == '__main__':\n",
    "\n",
    "    geometry_options = {\"tmargin\": \"1cm\", \"lmargin\": \"10cm\"}\n",
    "    doc = Document(geometry_options=geometry_options)\n",
    "\n",
    "    with doc.create(Section('Derive the time evolution of the node degrees, telling us how many dances a node had.')):\n",
    "        doc.append('Based on the given the probability of node i receiving a dance invitation, the rate of change in the number of dance partners a node has, or the degree of the node, over time is also')\n",
    "        with doc.create(Alignat(numbering=False, escape=False)) as agn:\n",
    "                agn.append(r'\\frac{\\eta_i}{t<\\eta>}\\\\')\n",
    "        doc.append('To solve for the time evolution, we integrate over the amount of time that node is at the party. We add one since there is one already partying node.')\n",
    "        with doc.create(Alignat(numbering=False, escape=False)) as agn:\n",
    "                agn.append(r'k(t, t_i, \\eta_i) &= 1+\\int_{t_i}^{t}\\frac{\\eta_i}{t<\\eta>}dt\\\\')\n",
    "                agn.append(r'k(t, t_i, \\eta_i) &= 1+\\frac{\\eta_i}{<\\eta>}\\frac{t}{t_i}\\\\')\n",
    "\n",
    "    with doc.create(Section('Derive the degree distribution of nodes with attractiveness eta.')):\n",
    "        doc.append('Solve for the probability that a node with attractiveness eta has degree k.')\n",
    "        with doc.create(Alignat(numbering=False, escape=False)) as agn:\n",
    "                agn.append(r'P(k|<\\eta>)&=\\frac{d}{dk(t, t_i, \\eta_i)}\\cdot t_i \\cdot P(t_i)\\\\')\n",
    "                agn.append(r'P(k|<\\eta>)&=\\frac{d}{dk(t, t_i, \\eta_i)}\\cdot t_i \\cdot \\frac{1}{t}\\\\')\n",
    "                agn.append(r'P(k|<\\eta>)&=\\frac{d}{dk(t, t_i, \\eta_i)}\\cdot te^{-\\frac{<\\eta>(k(t, t_i, \\eta_i)-1)}{\\eta_i}} \\cdot \\frac{1}{t}\\\\')\n",
    "                agn.append(r'P(k|<\\eta>)&=\\frac{d}{dk(t, t_i, \\eta_i)}\\cdot e^{-\\frac{<\\eta>(k(t, t_i, \\eta_i)-1)}{\\eta_i}}\\\\')\n",
    "                agn.append(r'P(k|<\\eta>)&=\\frac{\\eta}{\\eta_i}e^{-\\frac{<\\eta>(k(t, t_i, \\eta_i)-1)}{\\eta_i}}\\\\')\n",
    "    \n",
    "    eta = 0.5*2+0.5*1\n",
    "    with doc.create(Section('If half of the nodes have eta = 2, and the other half eta = 1, what is the degree distribution of the network after a sufficiently long time?')):\n",
    "        with doc.create(Alignat(numbering=False, escape=False)) as agn:\n",
    "                agn.append(r'\\frac{1}{2}\\frac{3}{4}e^{-\\frac{3(k(t, t_i, \\eta_i)-1)}{4}} + \\frac{1}{2} \\frac{3}{2} \\frac{e^{-3(k(t, t_i, \\eta_i)-1)}}{2}\\\\')\n",
    "\n",
    "\n",
    "    doc.generate_pdf('q2', clean_tex=False)"
   ]
  }
 ],
 "metadata": {
  "kernelspec": {
   "display_name": "Python 3",
   "language": "python",
   "name": "python3"
  },
  "language_info": {
   "codemirror_mode": {
    "name": "ipython",
    "version": 3
   },
   "file_extension": ".py",
   "mimetype": "text/x-python",
   "name": "python",
   "nbconvert_exporter": "python",
   "pygments_lexer": "ipython3",
   "version": "3.10.14"
  }
 },
 "nbformat": 4,
 "nbformat_minor": 2
}
