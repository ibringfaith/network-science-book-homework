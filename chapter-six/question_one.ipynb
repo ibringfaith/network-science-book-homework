{
 "cells": [
  {
   "cell_type": "markdown",
   "metadata": {},
   "source": [
    "## Accelerated Growth"
   ]
  },
  {
   "cell_type": "code",
   "execution_count": 3,
   "metadata": {},
   "outputs": [],
   "source": [
    "from pylatex import Document, Section, Alignat"
   ]
  },
  {
   "cell_type": "code",
   "execution_count": 4,
   "metadata": {},
   "outputs": [],
   "source": [
    "if __name__ == '__main__':\n",
    "\n",
    "    geometry_options = {\"tmargin\": \"1cm\", \"lmargin\": \"10cm\"}\n",
    "    doc = Document(geometry_options=geometry_options)\n",
    "\n",
    "    with doc.create(Section('Calculate, the degree exponent of the directed Barabási-Albert model with accelerated growth, assuming that the degree of the newly arriving nodes increases in time as m(t) = t^theta.')):\n",
    "        doc.append('k_in is proportional to t^theta so t is proportional to k_in^theta')\n",
    "        with doc.create(Alignat(numbering=False, escape=False)) as agn:\n",
    "                agn.append(r'P(k)dk\\sim\\frac{dt}{dk}dk\\\\')\n",
    "                agn.append(r'P(k)dk\\sim k^{\\frac{1}{\\theta}-1}dk\\\\')\n",
    "                agn.append(r'-\\gamma&=\\frac{1}{\\theta}-1\\\\')\n",
    "                agn.append(r'\\gamma&=-\\frac{1}{\\theta}+1\\\\')\n",
    "\n",
    "    doc.generate_pdf('q1', clean_tex=False)"
   ]
  }
 ],
 "metadata": {
  "kernelspec": {
   "display_name": "Python 3",
   "language": "python",
   "name": "python3"
  },
  "language_info": {
   "codemirror_mode": {
    "name": "ipython",
    "version": 3
   },
   "file_extension": ".py",
   "mimetype": "text/x-python",
   "name": "python",
   "nbconvert_exporter": "python",
   "pygments_lexer": "ipython3",
   "version": "3.10.14"
  }
 },
 "nbformat": 4,
 "nbformat_minor": 2
}
