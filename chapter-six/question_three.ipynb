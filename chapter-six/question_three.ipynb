{
 "cells": [
  {
   "cell_type": "markdown",
   "metadata": {},
   "source": [
    "## Bianconi-Barabási Model\n",
    "\n",
    "#### Consider the Bianconi-Barabási model with two distinct fitnesses, η = a and η = 1. To be specific, let us assume that the fitness follows the double delta distribution ρ(η)=(1/2)δ(η−a)+(1/2)δ(η−1) with 0≤a≤1\n",
    "\n",
    "- Calculate the degree exponent, and its dependence on the parameter a.\n",
    "- Calculate the stationary degree distribution of the network."
   ]
  },
  {
   "cell_type": "markdown",
   "metadata": {},
   "source": []
  }
 ],
 "metadata": {
  "language_info": {
   "name": "python"
  }
 },
 "nbformat": 4,
 "nbformat_minor": 2
}
