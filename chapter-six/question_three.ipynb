{
 "cells": [
  {
   "cell_type": "markdown",
   "metadata": {},
   "source": [
    "## Bianconi-Barabási Model\n",
    "\n",
    "#### Consider the Bianconi-Barabási model with two distinct fitnesses, η = a and η = 1. To be specific, let us assume that the fitness follows the double delta distribution ρ(η)=(1/2)δ(η−a)+(1/2)δ(η−1) with 0≤a≤1"
   ]
  },
  {
   "cell_type": "code",
   "execution_count": 1,
   "metadata": {},
   "outputs": [],
   "source": [
    "from pylatex import Document, Section, Alignat"
   ]
  },
  {
   "cell_type": "code",
   "execution_count": 2,
   "metadata": {},
   "outputs": [],
   "source": [
    "if __name__ == '__main__':\n",
    "\n",
    "    geometry_options = {\"tmargin\": \"1cm\", \"lmargin\": \"10cm\"}\n",
    "    doc = Document(geometry_options=geometry_options)\n",
    "\n",
    "    with doc.create(Section('Calculate the degree exponent, and its dependence on the parameter a.')):\n",
    "        doc.append('Rate of change for the nodes')\n",
    "        with doc.create(Alignat(numbering=False, escape=False)) as agn:\n",
    "                agn.append(r'm\\frac{ak_a}{a\\sum_{k_a}k_a+\\sum_{k_1}k_1}\\\\')\n",
    "                agn.append(r'm\\frac{k_1}{a\\sum_{k_a}k_a+\\sum_{k_1}k_1}\\\\')\n",
    "        doc.append('We know that')\n",
    "        with doc.create(Alignat(numbering=False, escape=False)) as agn:\n",
    "                agn.append(r'\\sum_{k_a}k_a + \\sum_{k_1}k_1 = 2mt\\\\')\n",
    "        doc.append('We substitute this into the rate of change')\n",
    "        with doc.create(Alignat(numbering=False, escape=False)) as agn:\n",
    "                agn.append(r'm\\frac{ak_a}{2mt} = \\frac{ak_a}{2t}\\\\')\n",
    "                agn.append(r'm\\frac{k_1}{2mt} = \\frac{k_1}{2t}\\\\')\n",
    "        doc.append('After differentiating, we get')\n",
    "        with doc.create(Alignat(numbering=False, escape=False)) as agn:\n",
    "                agn.append(r'k_a \\propto t^{\\frac{a}{2}}\\\\')\n",
    "                agn.append(r'k_1 \\propto t^{\\frac{1}{2}}\\\\')\n",
    "        doc.append('When we integrate, we find that the degree exponent is')\n",
    "        with doc.create(Alignat(numbering=False, escape=False)) as agn:\n",
    "                agn.append(r'1 + \\frac{1}{a}\\\\')\n",
    "\n",
    "    with doc.create(Section('Calculate the stationary degree distribution of the network.')):\n",
    "        doc.append('We use our calculations from the previous section to find the stationary degree distribution of the network.')\n",
    "        with doc.create(Alignat(numbering=False, escape=False)) as agn:\n",
    "                agn.append(r'P(k) = \\frac{1}{2}k^{-(1+\\frac{1}{a})} + \\frac{1}{2}k^{-3}\\\\')\n",
    "\n",
    "    doc.generate_pdf('q3', clean_tex=False)"
   ]
  }
 ],
 "metadata": {
  "kernelspec": {
   "display_name": "Python 3",
   "language": "python",
   "name": "python3"
  },
  "language_info": {
   "codemirror_mode": {
    "name": "ipython",
    "version": 3
   },
   "file_extension": ".py",
   "mimetype": "text/x-python",
   "name": "python",
   "nbconvert_exporter": "python",
   "pygments_lexer": "ipython3",
   "version": "3.10.14"
  }
 },
 "nbformat": 4,
 "nbformat_minor": 2
}
