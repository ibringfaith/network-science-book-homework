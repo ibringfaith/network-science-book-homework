{
 "cells": [
  {
   "cell_type": "markdown",
   "metadata": {},
   "source": [
    "## Additive Fitness\n",
    "\n",
    "#### Assume that the growth of a network is governed by preferential attachment with additive fitness Π(k_i)∼η_i+k_i where a different η_i is assigned to each node, chosen from a ρ(η) fitness distribution. Calculate and discuss the degree distribution of the resulting network."
   ]
  },
  {
   "cell_type": "markdown",
   "metadata": {},
   "source": []
  }
 ],
 "metadata": {
  "language_info": {
   "name": "python"
  }
 },
 "nbformat": 4,
 "nbformat_minor": 2
}
