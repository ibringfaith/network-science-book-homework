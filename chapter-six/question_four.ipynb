{
 "cells": [
  {
   "cell_type": "markdown",
   "metadata": {},
   "source": [
    "## Additive Fitness\n",
    "\n",
    "#### Assume that the growth of a network is governed by preferential attachment with additive fitness Π(k_i)∼η_i+k_i where a different η_i is assigned to each node, chosen from a ρ(η) fitness distribution."
   ]
  },
  {
   "cell_type": "code",
   "execution_count": 3,
   "metadata": {},
   "outputs": [],
   "source": [
    "from pylatex import Document, Section, Alignat"
   ]
  },
  {
   "cell_type": "code",
   "execution_count": 6,
   "metadata": {},
   "outputs": [],
   "source": [
    "if __name__ == '__main__':\n",
    "\n",
    "    geometry_options = {\"tmargin\": \"1cm\", \"lmargin\": \"10cm\"}\n",
    "    doc = Document(geometry_options=geometry_options)\n",
    "\n",
    "    with doc.create(Section('Calculate and discuss the degree distribution of the resulting network.')):\n",
    "        doc.append('The degree distribution, P(k), can be calculated as such')\n",
    "        with doc.create(Alignat(numbering=False, escape=False)) as agn:\n",
    "                agn.append(r'P(k)=\\int p(\\eta )P(k|\\eta )d\\eta\\\\')\n",
    "        doc.append(\"since it depends on the p(eta)'s form, it depends on both preferential attachment and fitness distribution, as eta increases, so does the area of the degree distribution, and p(eta) determines the tail of P(k).\")\n",
    "\n",
    "    doc.generate_pdf('q4', clean_tex=False)"
   ]
  },
  {
   "cell_type": "code",
   "execution_count": null,
   "metadata": {},
   "outputs": [],
   "source": []
  }
 ],
 "metadata": {
  "kernelspec": {
   "display_name": "Python 3",
   "language": "python",
   "name": "python3"
  },
  "language_info": {
   "codemirror_mode": {
    "name": "ipython",
    "version": 3
   },
   "file_extension": ".py",
   "mimetype": "text/x-python",
   "name": "python",
   "nbconvert_exporter": "python",
   "pygments_lexer": "ipython3",
   "version": "3.10.14"
  }
 },
 "nbformat": 4,
 "nbformat_minor": 2
}
