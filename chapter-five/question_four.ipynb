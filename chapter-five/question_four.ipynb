{
 "cells": [
  {
   "cell_type": "markdown",
   "metadata": {},
   "source": [
    "### Growth Without Preferential Attachment\n",
    "#### Derive the degree distribution (5.18) of Model A, when a network grows by new nodes connecting randomly to m previously existing nodes. With the help of a computer, generate a network of 104 nodes using Model A. Measure the degree distribution and check that it is consistent with the prediction (5.18).\n",
    "\n",
    "##### (5.18): p(k)=(e/m)*exp(−k/m)"
   ]
  },
  {
   "cell_type": "markdown",
   "metadata": {},
   "source": []
  }
 ],
 "metadata": {
  "language_info": {
   "name": "python"
  }
 },
 "nbformat": 4,
 "nbformat_minor": 2
}
