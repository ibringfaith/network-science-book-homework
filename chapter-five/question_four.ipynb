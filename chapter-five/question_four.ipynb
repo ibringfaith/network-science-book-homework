{
 "cells": [
  {
   "cell_type": "markdown",
   "metadata": {},
   "source": [
    "### Growth Without Preferential Attachment\n",
    "#### Derive the degree distribution (5.18) of Model A, when a network grows by new nodes connecting randomly to m previously existing nodes. With the help of a computer, generate a network of 10^4 nodes using Model A. Measure the degree distribution and check that it is consistent with the prediction (5.18).\n",
    "\n",
    "##### (5.18): p(k)=(e/m)*exp(−k/m)"
   ]
  },
  {
   "cell_type": "code",
   "execution_count": 8,
   "metadata": {},
   "outputs": [],
   "source": [
    "import math\n",
    "from matplotlib.axes import Axes\n",
    "import matplotlib.pyplot as plt\n",
    "from networkx import Graph\n",
    "import networkx as nx\n",
    "import numpy as np\n",
    "import seaborn as sns"
   ]
  },
  {
   "cell_type": "code",
   "execution_count": 9,
   "metadata": {},
   "outputs": [],
   "source": [
    "def sorted_degree_sequence(G: Graph) -> list:\n",
    "    return sorted((d for n, d in G.degree()), reverse=True)\n",
    "\n",
    "def measure_degree_distribution(degree_sequence: list) -> None:\n",
    "    G = nx.configuration_model(degree_sequence)\n",
    "    fig = plt.figure(\"Degree of a random graph\", figsize=(8, 8))\n",
    "    # Create a gridspec for adding subplots of different sizes\n",
    "    axgrid = fig.add_gridspec(5, 4)\n",
    "    \n",
    "    ax0 = fig.add_subplot(axgrid[0:3, :])\n",
    "    Gcc = G.subgraph(sorted(nx.connected_components(G), key=len, reverse=True)[0])\n",
    "    pos = nx.spring_layout(Gcc, seed=10396953)\n",
    "    nx.draw_networkx_nodes(Gcc, pos, ax=ax0, node_size=20)\n",
    "    nx.draw_networkx_edges(Gcc, pos, ax=ax0, alpha=0.4)\n",
    "    ax0.set_title(\"Connected components of G\")\n",
    "    ax0.set_axis_off()\n",
    "\n",
    "    ax1 = fig.add_subplot(axgrid[3:, :2])\n",
    "    ax1.plot(degree_sequence, \"b-\", marker=\"o\")\n",
    "    ax1.set_title(\"Degree Rank Plot\")\n",
    "    ax1.set_ylabel(\"Degree\")\n",
    "    ax1.set_xlabel(\"Rank\")\n",
    "\n",
    "    ax2 = fig.add_subplot(axgrid[3:, 2:])\n",
    "    ax2.bar(*np.unique(degree_sequence, return_counts=True))\n",
    "    ax2.set_title(\"Degree histogram\")\n",
    "    ax2.set_xlabel(\"Degree\")\n",
    "    ax2.set_ylabel(\"# of Nodes\")\n",
    "\n",
    "    fig.tight_layout()\n",
    "    plt.show()\n",
    "\n",
    "def plot_hist(degree_sequence: list, k_list: list, p_k_list: list) -> Axes:\n",
    "    sns.histplot(degree_sequence, kde=True).set_title(\"Distribution of Nodes by Degrees\")\n",
    "    plt.xlabel(\"Degree\")\n",
    "    plt.plot(k_list, p_k_list)"
   ]
  },
  {
   "cell_type": "code",
   "execution_count": 10,
   "metadata": {},
   "outputs": [],
   "source": [
    "p_k_list = []\n",
    "k_list = []\n",
    "m = 10000\n",
    "\n",
    "# probabilities have to sum to 1\n",
    "for k in range(4586):\n",
    "    k_list.append(k)\n",
    "    p_k = (math.e/m)*math.exp(-k/m)\n",
    "    p_k_list.append(p_k)\n",
    "remainder = 1 - sum(p_k_list)\n",
    "p_k_list.append(remainder)\n",
    "k_list.append(4586)\n",
    "\n",
    "degree_sequence = sorted(np.random.choice(\n",
    "  k_list, \n",
    "  m,\n",
    "  p = p_k_list\n",
    "), reverse=True)\n",
    "\n",
    "# sum of degrees must be even\n",
    "if sum(degree_sequence) % 2 != 0:\n",
    "   degree_sequence[np.random.randint(0, 4586)] += 1"
   ]
  },
  {
   "cell_type": "code",
   "execution_count": 11,
   "metadata": {},
   "outputs": [],
   "source": [
    "measure_degree_distribution(degree_sequence)"
   ]
  },
  {
   "cell_type": "code",
   "execution_count": null,
   "metadata": {},
   "outputs": [],
   "source": [
    "plot_hist(degree_sequence, k_list, p_k_list)"
   ]
  }
 ],
 "metadata": {
  "kernelspec": {
   "display_name": "Python 3",
   "language": "python",
   "name": "python3"
  },
  "language_info": {
   "codemirror_mode": {
    "name": "ipython",
    "version": 3
   },
   "file_extension": ".py",
   "mimetype": "text/x-python",
   "name": "python",
   "nbconvert_exporter": "python",
   "pygments_lexer": "ipython3",
   "version": "3.10.14"
  }
 },
 "nbformat": 4,
 "nbformat_minor": 2
}
