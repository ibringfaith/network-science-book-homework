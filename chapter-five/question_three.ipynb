{
 "cells": [
  {
   "cell_type": "markdown",
   "metadata": {},
   "source": [
    "### Copying Model"
   ]
  },
  {
   "cell_type": "code",
   "execution_count": 1,
   "metadata": {},
   "outputs": [],
   "source": [
    "from pylatex import Document, Section, Alignat"
   ]
  },
  {
   "cell_type": "code",
   "execution_count": 6,
   "metadata": {},
   "outputs": [],
   "source": [
    "if __name__ == '__main__':\n",
    "\n",
    "    geometry_options = {\"tmargin\": \"1cm\", \"lmargin\": \"10cm\"}\n",
    "    doc = Document(geometry_options=geometry_options)\n",
    "\n",
    "    with doc.create(Section('Use the rate equation approach to show that the directed copying model leads to a scale-free network with incoming degree exponent gamma_i=(2-p)/(1-p).')):\n",
    "        doc.append('Let us denote with N(k,t) the number of nodes with degree k at time t and the degree distribution')\n",
    "        with doc.create(Alignat(numbering=False, escape=False)) as agn:\n",
    "                agn.append(r'p_k(t)&=\\frac{N(k,t)}{N(t)}\\\\')\n",
    "        doc.append('The expected change in N(k,t) after one timestep is')\n",
    "        with doc.create(Alignat(numbering=False, escape=False)) as agn:\n",
    "                agn.append(r'N(k, t+1) - N(k, t)\\\\')\n",
    "                agn.append(r'= p[(k-1)\\frac{N(k-1,t)}{N(t)}-k\\frac{N(k,t)}{N(t)}] + (1-p)(\\frac{N(k-1,t)}{N(t)})\\\\')\n",
    "                agn.append(r'= p[\\frac{(k-1)N(k-1,t)-kN(k,t)}{t}] + (1-p)(\\frac{N(k-1, t)-N(k,t)}{t})\\\\')\n",
    "        doc.append('When t is large, we assume that N(k,t)=t*p_k such that the equation now becomes')\n",
    "        with doc.create(Alignat(numbering=False, escape=False)) as agn:\n",
    "                agn.append(r'p_k&=p[(k-1)p_{k-1}-kp_k] + (1-p)[p_k-p_{k-1}]\\\\')\n",
    "        doc.append('Rewriting the equation we get')\n",
    "        with doc.create(Alignat(numbering=False, escape=False)) as agn:\n",
    "                agn.append(r'p_k&=p_{k-1}\\cdot\\frac{k-1+(1/p)}{k+1+(1/p)}\\\\')\n",
    "        doc.append('Using a recursive approach we see that')\n",
    "        with doc.create(Alignat(numbering=False, escape=False)) as agn:\n",
    "                agn.append(r'p_k&=C\\prod_{j=i}^{k}\\frac{j-1+(1/p)}{j+1+(1/p)}\\\\')\n",
    "        doc.append('which is about')\n",
    "        with doc.create(Alignat(numbering=False, escape=False)) as agn:\n",
    "                agn.append(r'k^{\\frac{-(2-p)}{(1-p)}}\\\\')\n",
    "        doc.append('when k is sufficiently large.')\n",
    "\n",
    "    doc.generate_pdf('q3', clean_tex=False)"
   ]
  },
  {
   "cell_type": "code",
   "execution_count": null,
   "metadata": {},
   "outputs": [],
   "source": []
  }
 ],
 "metadata": {
  "kernelspec": {
   "display_name": "Python 3",
   "language": "python",
   "name": "python3"
  },
  "language_info": {
   "codemirror_mode": {
    "name": "ipython",
    "version": 3
   },
   "file_extension": ".py",
   "mimetype": "text/x-python",
   "name": "python",
   "nbconvert_exporter": "python",
   "pygments_lexer": "ipython3",
   "version": "3.10.14"
  }
 },
 "nbformat": 4,
 "nbformat_minor": 2
}
