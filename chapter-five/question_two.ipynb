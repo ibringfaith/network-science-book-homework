{
 "cells": [
  {
   "cell_type": "markdown",
   "metadata": {},
   "source": [
    "### Directed Barabási-Albert Model\n",
    "#### Consider a variation of the Barabási-Albert model, where at each time step a new node arrives and connects with a directed link to a node chosen with probability Π(k_i^in)=(k_i^in+A)/(∑_j(k_j^in+A)). Here k_i^in indicates the in-degree of node i and A is the same constant for all nodes. Each new node has m directed links."
   ]
  },
  {
   "cell_type": "code",
   "execution_count": 1,
   "metadata": {},
   "outputs": [],
   "source": [
    "from pylatex import Document, Section, Alignat"
   ]
  },
  {
   "cell_type": "code",
   "execution_count": 2,
   "metadata": {},
   "outputs": [],
   "source": [
    "if __name__ == '__main__':\n",
    "\n",
    "    geometry_options = {\"tmargin\": \"1cm\", \"lmargin\": \"10cm\"}\n",
    "    doc = Document(geometry_options=geometry_options)\n",
    "\n",
    "    with doc.create(Section('Calculate, using the rate equation approach, the in- and out- degree distribution of the resulting network.')):\n",
    "        doc.append('Let us denote with N(k,t) the number of nodes with degree k at time t. Then the rate equation is')\n",
    "        with doc.create(Alignat(numbering=False, escape=False)) as agn:\n",
    "                agn.append(r'm[\\prod(k-1)N(k-1,t)-\\prod(k)N(k,t)]\\\\')\n",
    "        doc.append('Substitutiong in the given probability, we can simplify the rate equation to')\n",
    "        with doc.create(Alignat(numbering=False, escape=False)) as agn:\n",
    "                agn.append(r'm[N(k-1,t)\\cdot\\frac{(k-1)+A}{mt+At}-N(k,t)\\cdot\\frac{k+A}{mt+At}]\\\\')\n",
    "        doc.append('where mt is the sum of all the in-degrees.') \n",
    "        doc.append('When t is large, we assume that N(k,t)=t*p_k such that')\n",
    "        with doc.create(Alignat(numbering=False, escape=False)) as agn:\n",
    "                agn.append(r'p_k&=m[p_{k-1}\\cdot\\frac{(k-1)+A}{m+A}-p_k\\cdot\\frac{k+A}{m+A}]\\\\')\n",
    "        doc.append('which simplifies to')\n",
    "        with doc.create(Alignat(numbering=False, escape=False)) as agn:\n",
    "                agn.append(r'p_k&=p_{k-1}\\cdot\\frac{m(k-1+A)}{k+m+2A}\\\\')\n",
    "\n",
    "    with doc.create(Section('By using the properties of the Gamma and Beta functions, can you find a power-law scaling for the in-degree distribution?')):\n",
    "        doc.append('Using a recursive approach we see that')\n",
    "        with doc.create(Alignat(numbering=False, escape=False)) as agn:\n",
    "                agn.append(r'p_k&=p_1\\prod_{j=1}^{k-1}\\frac{m(j+A)}{j+1+m+2A}\\\\')\n",
    "        doc.append('Using the properties of the Gamma and Beta functions, we get')\n",
    "        with doc.create(Alignat(numbering=False, escape=False)) as agn:\n",
    "                agn.append(r'p_k&=k^{-2+\\frac{A}{m+A}}\\\\')\n",
    "        doc.append('when k is sufficiently large.')\n",
    "\n",
    "    with doc.create(Section('For A = 0 the scaling exponent of the in-degree distribution is different from gamma = 3, the exponent of the Barabási-Albert model. Why?')):\n",
    "        doc.append('The Barabási-Albert model is undirected so whe attaching new nodes to the graph, it considers the total number of degrees in the graph rather than just the in-degrees. This affects the degree distribution, and as a result, the scaling exponent.')\n",
    "\n",
    "    doc.generate_pdf('q2', clean_tex=False)"
   ]
  }
 ],
 "metadata": {
  "kernelspec": {
   "display_name": "Python 3",
   "language": "python",
   "name": "python3"
  },
  "language_info": {
   "codemirror_mode": {
    "name": "ipython",
    "version": 3
   },
   "file_extension": ".py",
   "mimetype": "text/x-python",
   "name": "python",
   "nbconvert_exporter": "python",
   "pygments_lexer": "ipython3",
   "version": "3.10.14"
  }
 },
 "nbformat": 4,
 "nbformat_minor": 2
}
