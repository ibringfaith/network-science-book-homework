{
 "cells": [
  {
   "cell_type": "markdown",
   "metadata": {},
   "source": [
    "### Directed Barabási-Albert Model\n",
    "#### Consider a variation of the Barabási-Albert model, where at each time step a new node arrives and connects with a directed link to a node chosen with probability Π(k_i^in)=(k_i^in+A)/(∑_j(k_j^in+A)). Here k_i^in indicates the in-degree of node i and A is the same constant for all nodes. Each new node has m directed links."
   ]
  },
  {
   "cell_type": "markdown",
   "metadata": {},
   "source": [
    "Calculate, using the rate equation approach, the in- and out-degree distribution of the resulting network."
   ]
  },
  {
   "cell_type": "markdown",
   "metadata": {},
   "source": [
    "By using the properties of the Gamma and Beta functions, can you find a power-law scaling for the in-degree distribution?"
   ]
  },
  {
   "cell_type": "markdown",
   "metadata": {},
   "source": [
    "For A = 0 the scaling exponent of the in-degree distribution is different from γ = 3, the exponent of the Barabási-Albert model. Why?"
   ]
  }
 ],
 "metadata": {
  "language_info": {
   "name": "python"
  }
 },
 "nbformat": 4,
 "nbformat_minor": 2
}
